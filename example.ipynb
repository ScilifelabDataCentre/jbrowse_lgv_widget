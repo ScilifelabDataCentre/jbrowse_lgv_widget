{
 "cells": [
  {
   "cell_type": "code",
   "execution_count": 1,
   "id": "3c0f0959-8272-4892-b199-56dce26f6f0e",
   "metadata": {},
   "outputs": [
    {
     "data": {
      "application/vnd.jupyter.widget-view+json": {
       "model_id": "f2cfef04dfbf4313ae74c1362c6ffe56",
       "version_major": 2,
       "version_minor": 1
      },
      "text/plain": [
       "LGVWidget()"
      ]
     },
     "execution_count": 1,
     "metadata": {},
     "output_type": "execute_result"
    }
   ],
   "source": [
    "from lgv_widget import LGVWidget\n",
    "w = LGVWidget()\n",
    "w"
   ]
  }
 ],
 "metadata": {
  "kernelspec": {
   "display_name": "Python 3 (ipykernel)",
   "language": "python",
   "name": "python3"
  },
  "language_info": {
   "codemirror_mode": {
    "name": "ipython",
    "version": 3
   },
   "file_extension": ".py",
   "mimetype": "text/x-python",
   "name": "python",
   "nbconvert_exporter": "python",
   "pygments_lexer": "ipython3",
   "version": "3.12.1"
  }
 },
 "nbformat": 4,
 "nbformat_minor": 5
}
