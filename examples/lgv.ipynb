{
 "cells": [
  {
   "cell_type": "code",
   "execution_count": 1,
   "id": "68f5266d-706a-4df6-99f8-108cf0c3e324",
   "metadata": {},
   "outputs": [
    {
     "name": "stdout",
     "output_type": "stream",
     "text": [
      "env: ANYWIDGET_HMR=1\n"
     ]
    }
   ],
   "source": [
    "%env ANYWIDGET_HMR=1\n",
    "from pyjb import LGVWidget, Fasta"
   ]
  },
  {
   "cell_type": "code",
   "execution_count": 2,
   "id": "9247b022-4a52-4511-86e3-d2909bbb132f",
   "metadata": {},
   "outputs": [],
   "source": [
    "# Remote assembly\n",
    "hg38 = Fasta(\n",
    "    sequence='https://s3.amazonaws.com/jbrowse.org/genomes/GRCh38/fasta/GRCh38.fa.gz',\n",
    "    name='GRCh38',\n",
    "    aliases=['hg38'],\n",
    "    ref_name_aliases='https://s3.amazonaws.com/jbrowse.org/genomes/GRCh38/hg38_aliases.txt'\n",
    ")\n",
    "# Server-local feature track\n",
    "minibed = 'data/gh38/example.bed'"
   ]
  },
  {
   "cell_type": "code",
   "execution_count": 4,
   "id": "3c0f0959-8272-4892-b199-56dce26f6f0e",
   "metadata": {},
   "outputs": [
    {
     "data": {
      "application/vnd.jupyter.widget-view+json": {
       "model_id": "9aeafb19b34d4dbdbb597261c4086026",
       "version_major": 2,
       "version_minor": 1
      },
      "text/plain": [
       "LGVWidget(assembly=Fasta(sequence='https://s3.amazonaws.com/jbrowse.org/genomes/GRCh38/fasta/GRCh38.fa.gz', na…"
      ]
     },
     "execution_count": 4,
     "metadata": {},
     "output_type": "execute_result"
    }
   ],
   "source": [
    "w = LGVWidget(assembly=hg38)\n",
    "w.track = minibed\n",
    "w"
   ]
  }
 ],
 "metadata": {
  "kernelspec": {
   "display_name": "Python 3 (ipykernel)",
   "language": "python",
   "name": "python3"
  },
  "language_info": {
   "codemirror_mode": {
    "name": "ipython",
    "version": 3
   },
   "file_extension": ".py",
   "mimetype": "text/x-python",
   "name": "python",
   "nbconvert_exporter": "python",
   "pygments_lexer": "ipython3",
   "version": "3.12.1"
  }
 },
 "nbformat": 4,
 "nbformat_minor": 5
}
