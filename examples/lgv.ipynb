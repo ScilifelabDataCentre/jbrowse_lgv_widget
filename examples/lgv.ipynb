{
 "cells": [
  {
   "cell_type": "code",
   "execution_count": 1,
   "id": "68f5266d-706a-4df6-99f8-108cf0c3e324",
   "metadata": {},
   "outputs": [
    {
     "name": "stdout",
     "output_type": "stream",
     "text": [
      "env: ANYWIDGET_HMR=1\n"
     ]
    }
   ],
   "source": [
    "%env ANYWIDGET_HMR=1\n",
    "from pyjb import LGVWidget, Fasta, Gff"
   ]
  },
  {
   "cell_type": "markdown",
   "id": "064590b4-0c43-4fe6-aeb3-ee95dc1ecffc",
   "metadata": {},
   "source": [
    "## Remote assembly"
   ]
  },
  {
   "cell_type": "code",
   "execution_count": null,
   "id": "20641c40-1d82-424e-9786-0e570cc91112",
   "metadata": {},
   "outputs": [],
   "source": [
    "remote_dir = 'https://s3.amazonaws.com/jbrowse.org/genomes/GRCh38'\n",
    "hg38 = Fasta(\n",
    "    sequence=f'{remote_dir}/fasta/GRCh38.fa.gz',\n",
    "    name='GRCh38',\n",
    "    aliases=['hg38'],\n",
    "    ref_name_aliases=f'{remote_dir}/hg38_aliases.txt'\n",
    ")"
   ]
  },
  {
   "cell_type": "code",
   "execution_count": 4,
   "id": "3c0f0959-8272-4892-b199-56dce26f6f0e",
   "metadata": {},
   "outputs": [
    {
     "data": {
      "application/vnd.jupyter.widget-view+json": {
       "model_id": "9aeafb19b34d4dbdbb597261c4086026",
       "version_major": 2,
       "version_minor": 1
      },
      "text/plain": [
       "LGVWidget(assembly=Fasta(sequence='https://s3.amazonaws.com/jbrowse.org/genomes/GRCh38/fasta/GRCh38.fa.gz', na…"
      ]
     },
     "execution_count": 4,
     "metadata": {},
     "output_type": "execute_result"
    }
   ],
   "source": [
    "LGVWidget(assembly=hg38)"
   ]
  },
  {
   "cell_type": "markdown",
   "id": "4768d82c-a32c-441a-aaf8-f01cd4f20a18",
   "metadata": {},
   "source": [
    "## Local assembly and GFF track"
   ]
  },
  {
   "cell_type": "code",
   "execution_count": null,
   "id": "63c72443-8303-4790-915e-c15bc963f18a",
   "metadata": {},
   "outputs": [],
   "source": [
    "# Aspergillus Nidulans\n",
    "asm1142 = Fasta(\n",
    "    sequence='data/asm1142v1/GCF_000011425.1_ASM1142v1_genomic.fna.bgz',\n",
    "    name=\"asm1142v1\",\n",
    ")\n",
    "annot = Gff(\n",
    "    track='data/asm1142v1/GCF_000011425.1_ASM1142v1_genomic.gff.bgz',\n",
    "    assembly=asm1142\n",
    ")"
   ]
  },
  {
   "cell_type": "code",
   "execution_count": null,
   "id": "4ac2eded-c27f-4805-b373-8f83f9eeceaf",
   "metadata": {},
   "outputs": [],
   "source": [
    "LGVWidget(assembly=asm1142, tracks=[annot])"
   ]
  }
 ],
 "metadata": {
  "kernelspec": {
   "display_name": "Python 3 (ipykernel)",
   "language": "python",
   "name": "python3"
  },
  "language_info": {
   "codemirror_mode": {
    "name": "ipython",
    "version": 3
   },
   "file_extension": ".py",
   "mimetype": "text/x-python",
   "name": "python",
   "nbconvert_exporter": "python",
   "pygments_lexer": "ipython3",
   "version": "3.12.1"
  }
 },
 "nbformat": 4,
 "nbformat_minor": 5
}
