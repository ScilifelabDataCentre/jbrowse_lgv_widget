{
 "cells": [
  {
   "cell_type": "code",
   "execution_count": 1,
   "id": "9faef3ca-6945-4c57-8d4f-2f4caa2b39ab",
   "metadata": {},
   "outputs": [
    {
     "name": "stdout",
     "output_type": "stream",
     "text": [
      "env: ANYWIDGET_HMR=1\n"
     ]
    }
   ],
   "source": [
    "%env ANYWIDGET_HMR=1"
   ]
  },
  {
   "cell_type": "code",
   "execution_count": 6,
   "id": "9247b022-4a52-4511-86e3-d2909bbb132f",
   "metadata": {},
   "outputs": [],
   "source": [
    "# Remote assembly\n",
    "hg38 = {\n",
    "    'name': 'GRCh38',\n",
    "    'uri': 'https://s3.amazonaws.com/jbrowse.org/genomes/GRCh38/fasta/GRCh38.fa.gz',\n",
    "    'aliases': ['hg38'],\n",
    "    'refNameAliases': 'https://s3.amazonaws.com/jbrowse.org/genomes/GRCh38/hg38_aliases.txt'\n",
    "}\n",
    "# Server-local feature track\n",
    "minibed = 'data/gh38/example.bed'"
   ]
  },
  {
   "cell_type": "code",
   "execution_count": 8,
   "id": "3c0f0959-8272-4892-b199-56dce26f6f0e",
   "metadata": {},
   "outputs": [
    {
     "data": {
      "application/vnd.jupyter.widget-view+json": {
       "model_id": "50fb31a4337f4d148e17ee118b4dc42b",
       "version_major": 2,
       "version_minor": 1
      },
      "text/plain": [
       "LGVWidget(assembly='https://s3.amazonaws.com/jbrowse.org/genomes/GRCh38/fasta/GRCh38.fa.gz', track='data/gh38/…"
      ]
     },
     "execution_count": 8,
     "metadata": {},
     "output_type": "execute_result"
    }
   ],
   "source": [
    "from pyjb import LGVWidget\n",
    "w = LGVWidget()\n",
    "w.assembly = hg38['uri']\n",
    "w.track = minibed\n",
    "w"
   ]
  }
 ],
 "metadata": {
  "kernelspec": {
   "display_name": "Python 3 (ipykernel)",
   "language": "python",
   "name": "python3"
  },
  "language_info": {
   "codemirror_mode": {
    "name": "ipython",
    "version": 3
   },
   "file_extension": ".py",
   "mimetype": "text/x-python",
   "name": "python",
   "nbconvert_exporter": "python",
   "pygments_lexer": "ipython3",
   "version": "3.12.1"
  }
 },
 "nbformat": 4,
 "nbformat_minor": 5
}
